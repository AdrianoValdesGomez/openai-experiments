{
 "cells": [
  {
   "cell_type": "markdown",
   "metadata": {},
   "source": [
    "# 🔬 OpenAI API Test Notebook\n",
    "Este notebook prueba una solicitud simple a la API de OpenAI usando GPT-4. Asegúrate de tener tu clave en el archivo `.env` antes de ejecutar."
   ]
  },
  {
   "cell_type": "code",
   "execution_count": 5,
   "metadata": {},
   "outputs": [
    {
     "name": "stdout",
     "output_type": "stream",
     "text": [
      "El agua puede hervir y congelarse al mismo tiempo. Esto se conoce como el punto triple, y sólo ocurre bajo condiciones específicas de presión y temperatura. En el punto triple, el agua puede existir simultáneamente en sus tres fases: sólida, líquida y gaseosa. Este punto es precisamente a una presión de 611.657 pascal y una temperatura de 273.16 K (0.01 °C).\n"
     ]
    }
   ],
   "source": [
    "#import openai\n",
    "#import os\n",
    "#from dotenv import load_dotenv\n",
    "\n",
    "#load_dotenv()\n",
    "#openai.api_key = os.getenv(\"OPENAI_API_KEY\")\n",
    "\n",
    "\n",
    "import openai\n",
    "import os\n",
    "\n",
    "client = openai.OpenAI(api_key=os.getenv(\"OPENAI_API_KEY\"))\n",
    "\n",
    "response = client.chat.completions.create(\n",
    "    model=\"gpt-4\",\n",
    "    messages=[\n",
    "        {\"role\": \"user\", \"content\": \"Dime una curiosidad científica interesante.\"}\n",
    "    ]\n",
    ")\n",
    "\n",
    "print(response.choices[0].message.content)\n"
   ]
  },
  {
   "cell_type": "markdown",
   "metadata": {},
   "source": [
    "## Solicitud a GPT-4"
   ]
  },
  {
   "cell_type": "code",
   "execution_count": 6,
   "metadata": {},
   "outputs": [],
   "source": [
    "#response = openai.ChatCompletion.create(\n",
    "#    model=\"gpt-4\",\n",
    "#    messages=[\n",
    "#        {\"role\": \"user\", \"content\": \"Dime una curiosidad científica interesante.\"}\n",
    "#    ]\n",
    "#)\n",
    "#print(response.choices[0].message.content)"
   ]
  },
  {
   "cell_type": "markdown",
   "metadata": {},
   "source": [
    "## Probar diferentes parámetros del modelo"
   ]
  },
  {
   "cell_type": "code",
   "execution_count": 8,
   "metadata": {},
   "outputs": [
    {
     "name": "stdout",
     "output_type": "stream",
     "text": [
      "Nombre de la criatura: Zephyreus\n",
      "\n",
      "Descripción: Zephyreus es una criatura mitológica majestuosa y esbelta del tamaño de un caballo, combinando rasgos de un lobo y un ave. Tiene el cuerpo cubierto de un pelaje corto y plateado como un lobo nocturno, pero su cola y las alas son como las de un águila, repletas de plumas iridiscent\n"
     ]
    }
   ],
   "source": [
    "response = client.chat.completions.create(\n",
    "    model=\"gpt-4\",\n",
    "    temperature=0.9,\n",
    "    max_tokens=100,\n",
    "    messages=[\n",
    "        {\"role\": \"user\", \"content\": \"Inventa una criatura mitológica con habilidades únicas.\"}\n",
    "    ]\n",
    ")\n",
    "\n",
    "print(response.choices[0].message.content)"
   ]
  },
  {
   "cell_type": "code",
   "execution_count": 4,
   "metadata": {},
   "outputs": [
    {
     "name": "stdout",
     "output_type": "stream",
     "text": [
      "/root/.cache/pypoetry/virtualenvs/openai-experiments-9TtSrW0h-py3.11/bin/python\n"
     ]
    }
   ],
   "source": [
    "import sys\n",
    "print(sys.executable)\n"
   ]
  },
  {
   "cell_type": "code",
   "execution_count": null,
   "metadata": {},
   "outputs": [],
   "source": []
  }
 ],
 "metadata": {
  "kernelspec": {
   "display_name": "Python 3 (openai-experiments)",
   "language": "python",
   "name": "openai-experiments"
  },
  "language_info": {
   "codemirror_mode": {
    "name": "ipython",
    "version": 3
   },
   "file_extension": ".py",
   "mimetype": "text/x-python",
   "name": "python",
   "nbconvert_exporter": "python",
   "pygments_lexer": "ipython3",
   "version": "3.11.12"
  }
 },
 "nbformat": 4,
 "nbformat_minor": 4
}
