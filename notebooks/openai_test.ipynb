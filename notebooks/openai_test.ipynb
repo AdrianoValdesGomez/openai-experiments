{
 "cells": [
  {
   "cell_type": "markdown",
   "id": "90bee16e",
   "metadata": {},
   "source": [
    "# Test de la API de OpenAI usando el nuevo cliente (>=1.0.0)"
   ]
  },
  {
   "cell_type": "code",
   "execution_count": 1,
   "id": "75069bcf",
   "metadata": {},
   "outputs": [],
   "source": [
    "import openai\n",
    "import os\n",
    "\n",
    "# Crear el cliente con la API key\n",
    "client = openai.OpenAI(api_key=os.getenv(\"OPENAI_API_KEY\"))"
   ]
  },
  {
   "cell_type": "code",
   "execution_count": 2,
   "id": "576b4e2e",
   "metadata": {},
   "outputs": [
    {
     "name": "stdout",
     "output_type": "stream",
     "text": [
      "Nombre de la Criatura: Glacius Volatus\n",
      "\n",
      "Descripción: El Glacius Volatus es una criatura mitológica majestuosa que combina las características de un lobo y un águila. Su cuerpo principal y rostro son los de un lobo, con pelo largo y deslumbrante de color azul plata que brilla bajo la luna. Sus ojos son de un tono azul hielo brillante que parecen\n"
     ]
    }
   ],
   "source": [
    "# Enviar una solicitud al modelo GPT-4\n",
    "response = client.chat.completions.create(\n",
    "    model=\"gpt-4\",\n",
    "    temperature=0.9,\n",
    "    max_tokens=100,\n",
    "    messages=[\n",
    "        {\"role\": \"user\", \"content\": \"Inventa una criatura mitológica con habilidades únicas.\"}\n",
    "    ]\n",
    ")\n",
    "\n",
    "print(response.choices[0].message.content)"
   ]
  },
  {
   "cell_type": "code",
   "execution_count": null,
   "id": "9050feab-136b-46de-8351-140f9bd38a5a",
   "metadata": {},
   "outputs": [],
   "source": []
  }
 ],
 "metadata": {
  "kernelspec": {
   "display_name": "Python 3 (ipykernel)",
   "language": "python",
   "name": "python3"
  },
  "language_info": {
   "codemirror_mode": {
    "name": "ipython",
    "version": 3
   },
   "file_extension": ".py",
   "mimetype": "text/x-python",
   "name": "python",
   "nbconvert_exporter": "python",
   "pygments_lexer": "ipython3",
   "version": "3.11.12"
  }
 },
 "nbformat": 4,
 "nbformat_minor": 5
}
